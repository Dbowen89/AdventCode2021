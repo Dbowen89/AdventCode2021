{
 "cells": [
  {
   "cell_type": "markdown",
   "id": "3e941202",
   "metadata": {},
   "source": [
    "Day 1 - https://adventofcode.com/2021/day/1\n",
    "\n"
   ]
  },
  {
   "cell_type": "code",
   "execution_count": null,
   "id": "988b0e31",
   "metadata": {},
   "outputs": [],
   "source": [
    "with open(r'C:\\Users\\dbowe\\OneDrive\\Desktop\\AdventCode\\Day1\\input.txt')as f:\n",
    "    lines = f.read().splitlines()"
   ]
  },
  {
   "cell_type": "code",
   "execution_count": null,
   "id": "af091518",
   "metadata": {},
   "outputs": [],
   "source": [
    "numbers = [int(x) for x in lines]"
   ]
  },
  {
   "cell_type": "code",
   "execution_count": null,
   "id": "9c648bd8",
   "metadata": {},
   "outputs": [],
   "source": [
    "def checkincrease(ListofNumbers):\n",
    "    numberInc = 0\n",
    "    i = 0\n",
    "    j = 1\n",
    "    \n",
    "    while j < len(ListofNumbers):\n",
    "        if ListofNumbers[i] - ListofNumbers[j] <0:\n",
    "            numberInc += 1\n",
    "        else:\n",
    "            pass\n",
    "\n",
    "        i += 1\n",
    "        j += 1\n",
    "    \n",
    "    return(numberInc)\n"
   ]
  },
  {
   "cell_type": "code",
   "execution_count": null,
   "id": "52ef3b21",
   "metadata": {
    "scrolled": false
   },
   "outputs": [],
   "source": [
    "checkincrease(numbers) #Answer to part one"
   ]
  },
  {
   "cell_type": "code",
   "execution_count": null,
   "id": "86e9618f",
   "metadata": {},
   "outputs": [],
   "source": [
    "slidingnumber = [numbers[i:i+3] for i in range(len(numbers)-3+1)]"
   ]
  },
  {
   "cell_type": "code",
   "execution_count": null,
   "id": "41c80cd1",
   "metadata": {},
   "outputs": [],
   "source": [
    "slidingnumber =[sum(x) for x in slidingnumber]"
   ]
  },
  {
   "cell_type": "code",
   "execution_count": null,
   "id": "734a9d7d",
   "metadata": {},
   "outputs": [],
   "source": [
    "checkincrease(slidingnumber) #Answer to part 2"
   ]
  }
 ],
 "metadata": {
  "kernelspec": {
   "display_name": "Python 3",
   "language": "python",
   "name": "python3"
  },
  "language_info": {
   "codemirror_mode": {
    "name": "ipython",
    "version": 3
   },
   "file_extension": ".py",
   "mimetype": "text/x-python",
   "name": "python",
   "nbconvert_exporter": "python",
   "pygments_lexer": "ipython3",
   "version": "3.8.8"
  }
 },
 "nbformat": 4,
 "nbformat_minor": 5
}
