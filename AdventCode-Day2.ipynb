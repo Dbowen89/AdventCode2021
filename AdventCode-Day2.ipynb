{
 "cells": [
  {
   "cell_type": "markdown",
   "id": "efc1ee3f",
   "metadata": {},
   "source": [
    "Day 2 - https://adventofcode.com/2021/day/2"
   ]
  },
  {
   "cell_type": "code",
   "execution_count": 3,
   "id": "2ce2c642",
   "metadata": {},
   "outputs": [],
   "source": [
    "with open(r'C:\\Users\\dbowe\\OneDrive\\Desktop\\AdventCode\\Day2\\input.txt')as f:\n",
    "    lines = [tuple(t(e) for t,e in zip([str, int], line.split())) for line in f]"
   ]
  },
  {
   "cell_type": "code",
   "execution_count": 4,
   "id": "8c34c72f",
   "metadata": {
    "scrolled": false
   },
   "outputs": [
    {
     "name": "stdout",
     "output_type": "stream",
     "text": [
      "[('forward', 1), ('forward', 2), ('down', 5), ('down', 5), ('down', 4), ('down', 9), ('up', 6), ('up', 7), ('down', 2), ('forward', 9), ('up', 4), ('forward', 7), ('forward', 9), ('up', 3), ('down', 1), ('forward', 5), ('down', 3), ('forward', 3), ('forward', 3), ('forward', 3), ('down', 2), ('down', 5), ('forward', 7), ('down', 7), ('up', 7), ('down', 9), ('down', 1), ('down', 4), ('down', 9), ('down', 2), ('forward', 2), ('forward', 4), ('up', 7), ('up', 1), ('forward', 3), ('forward', 8), ('forward', 9), ('forward', 6), ('forward', 9), ('forward', 1), ('forward', 5), ('down', 9), ('up', 7), ('down', 9), ('forward', 2), ('forward', 9), ('forward', 1), ('forward', 5), ('up', 8), ('down', 5), ('forward', 4), ('up', 6), ('up', 9), ('forward', 2), ('up', 8), ('down', 1), ('up', 5), ('forward', 3), ('down', 1), ('forward', 6), ('up', 6), ('forward', 9), ('forward', 1), ('forward', 3), ('down', 4), ('down', 9), ('down', 8), ('up', 9), ('down', 9), ('down', 2), ('down', 4), ('forward', 2), ('down', 4), ('down', 2), ('down', 8), ('up', 3), ('up', 9), ('forward', 3), ('down', 5), ('down', 1), ('up', 6), ('up', 6), ('down', 4), ('up', 3), ('forward', 1), ('down', 2), ('down', 7), ('forward', 1), ('down', 4), ('forward', 5), ('down', 5), ('forward', 3), ('forward', 8), ('down', 4), ('forward', 3), ('forward', 2), ('down', 4), ('forward', 6), ('forward', 6), ('down', 9), ('down', 3), ('up', 7), ('up', 6), ('down', 8), ('down', 4), ('down', 4), ('down', 8), ('down', 4), ('forward', 5), ('up', 7), ('down', 8), ('down', 4), ('down', 5), ('down', 3), ('forward', 1), ('up', 1), ('forward', 9), ('forward', 4), ('down', 9), ('forward', 5), ('up', 4), ('down', 3), ('up', 7), ('up', 2), ('down', 5), ('down', 2), ('forward', 8), ('up', 1), ('down', 8), ('forward', 2), ('forward', 8), ('down', 9), ('forward', 3), ('forward', 7), ('forward', 1), ('down', 2), ('down', 8), ('forward', 1), ('forward', 9), ('forward', 9), ('up', 3), ('up', 7), ('forward', 9), ('down', 4), ('up', 6), ('forward', 2), ('down', 2), ('down', 4), ('down', 4), ('down', 6), ('down', 5), ('forward', 2), ('down', 8), ('down', 1), ('up', 6), ('up', 1), ('up', 4), ('down', 5), ('forward', 5), ('forward', 4), ('forward', 1), ('forward', 9), ('up', 9), ('down', 9), ('down', 5), ('down', 7), ('up', 6), ('up', 2), ('forward', 5), ('down', 5), ('down', 3), ('down', 8), ('down', 6), ('forward', 4), ('down', 9), ('up', 3), ('forward', 2), ('forward', 9), ('forward', 6), ('forward', 5), ('down', 5), ('down', 1), ('down', 2), ('forward', 9), ('down', 2), ('down', 2), ('down', 3), ('forward', 3), ('forward', 9), ('forward', 1), ('down', 3), ('down', 8), ('forward', 7), ('down', 9), ('forward', 4), ('up', 3), ('up', 7), ('up', 4), ('down', 5), ('forward', 9), ('forward', 2), ('forward', 2), ('down', 3), ('up', 5), ('down', 5), ('down', 4), ('forward', 2), ('forward', 7), ('up', 2), ('down', 8), ('up', 2), ('up', 2), ('forward', 2), ('down', 2), ('forward', 3), ('down', 3), ('up', 8), ('forward', 7), ('up', 5), ('forward', 4), ('down', 6), ('down', 8), ('forward', 4), ('forward', 3), ('up', 9), ('up', 2), ('down', 2), ('down', 5), ('down', 8), ('down', 1), ('forward', 9), ('down', 6), ('forward', 1), ('down', 9), ('down', 4), ('up', 6), ('up', 3), ('forward', 1), ('down', 8), ('up', 3), ('down', 6), ('down', 7), ('down', 2), ('forward', 5), ('down', 6), ('forward', 8), ('up', 7), ('down', 5), ('down', 3), ('forward', 4), ('forward', 5), ('forward', 3), ('forward', 4), ('forward', 6), ('forward', 2), ('forward', 1), ('down', 3), ('down', 5), ('down', 3), ('down', 5), ('forward', 4), ('down', 7), ('forward', 8), ('forward', 5), ('up', 7), ('up', 3), ('forward', 9), ('up', 1), ('forward', 9), ('up', 8), ('down', 3), ('forward', 1), ('forward', 6), ('forward', 9), ('down', 1), ('up', 9), ('forward', 5), ('down', 6), ('forward', 8), ('down', 7), ('down', 3), ('up', 4), ('down', 6), ('forward', 5), ('forward', 6), ('forward', 5), ('up', 2), ('down', 5), ('up', 7), ('up', 4), ('up', 5), ('forward', 3), ('down', 9), ('up', 4), ('forward', 9), ('forward', 8), ('forward', 6), ('down', 5), ('down', 4), ('down', 2), ('up', 5), ('up', 7), ('up', 2), ('forward', 9), ('forward', 9), ('down', 9), ('down', 4), ('up', 2), ('forward', 3), ('up', 3), ('up', 2), ('down', 9), ('forward', 8), ('forward', 6), ('down', 6), ('forward', 3), ('down', 1), ('forward', 4), ('forward', 9), ('forward', 5), ('down', 2), ('down', 7), ('up', 6), ('down', 3), ('forward', 7), ('down', 3), ('up', 3), ('up', 8), ('forward', 3), ('up', 7), ('forward', 5), ('down', 7), ('forward', 7), ('forward', 3), ('down', 6), ('down', 3), ('forward', 5), ('forward', 9), ('up', 8), ('down', 7), ('down', 3), ('down', 7), ('down', 4), ('down', 1), ('down', 7), ('up', 6), ('forward', 8), ('up', 7), ('down', 9), ('forward', 6), ('down', 4), ('forward', 6), ('up', 9), ('forward', 4), ('down', 5), ('up', 3), ('forward', 5), ('forward', 6), ('down', 8), ('up', 9), ('forward', 4), ('up', 5), ('forward', 4), ('forward', 2), ('forward', 8), ('down', 7), ('forward', 1), ('down', 8), ('forward', 8), ('forward', 4), ('down', 4), ('forward', 5), ('down', 2), ('down', 5), ('forward', 9), ('down', 7), ('forward', 1), ('down', 1), ('forward', 9), ('forward', 3), ('forward', 9), ('forward', 8), ('down', 5), ('down', 6), ('forward', 8), ('up', 9), ('forward', 7), ('down', 1), ('forward', 9), ('up', 7), ('forward', 2), ('forward', 6), ('forward', 1), ('down', 8), ('down', 6), ('down', 7), ('down', 6), ('up', 5), ('down', 5), ('forward', 9), ('down', 6), ('down', 9), ('forward', 9), ('down', 7), ('up', 7), ('forward', 1), ('down', 5), ('down', 8), ('up', 5), ('down', 6), ('up', 5), ('up', 7), ('forward', 3), ('forward', 2), ('down', 5), ('down', 6), ('forward', 3), ('down', 4), ('down', 5), ('up', 4), ('forward', 5), ('down', 4), ('down', 5), ('forward', 4), ('down', 1), ('forward', 1), ('down', 1), ('forward', 4), ('forward', 2), ('down', 3), ('forward', 1), ('down', 1), ('forward', 2), ('forward', 2), ('forward', 6), ('up', 5), ('forward', 5), ('down', 9), ('down', 1), ('forward', 7), ('up', 9), ('down', 2), ('down', 1), ('forward', 3), ('up', 5), ('down', 8), ('forward', 2), ('forward', 1), ('down', 7), ('forward', 5), ('up', 6), ('forward', 2), ('up', 5), ('forward', 8), ('up', 6), ('down', 6), ('down', 3), ('forward', 1), ('forward', 7), ('down', 7), ('down', 1), ('up', 7), ('forward', 2), ('up', 5), ('forward', 4), ('forward', 9), ('forward', 4), ('forward', 2), ('forward', 4), ('down', 3), ('down', 7), ('forward', 1), ('up', 9), ('up', 2), ('forward', 1), ('down', 5), ('up', 9), ('forward', 6), ('down', 7), ('down', 2), ('down', 7), ('down', 2), ('down', 1), ('down', 7), ('down', 6), ('up', 1), ('up', 4), ('down', 9), ('up', 3), ('forward', 1), ('down', 2), ('forward', 4), ('up', 4), ('up', 9), ('down', 4), ('forward', 6), ('down', 1), ('down', 1), ('down', 8), ('up', 5), ('forward', 1), ('up', 6), ('down', 5), ('forward', 4), ('up', 8), ('down', 4), ('forward', 4), ('forward', 3), ('down', 7), ('down', 1), ('forward', 3), ('forward', 1), ('up', 6), ('down', 1), ('down', 8), ('forward', 6), ('down', 4), ('down', 6), ('forward', 5), ('forward', 3), ('forward', 5), ('down', 4), ('forward', 7), ('down', 6), ('down', 6), ('down', 9), ('up', 9), ('forward', 5), ('up', 9), ('up', 4), ('up', 6), ('down', 4), ('forward', 3), ('up', 2), ('down', 7), ('down', 8), ('forward', 7), ('down', 4), ('down', 3), ('down', 5), ('down', 1), ('forward', 5), ('up', 4), ('down', 3), ('down', 3), ('down', 6), ('forward', 9), ('down', 1), ('forward', 4), ('down', 9), ('forward', 1), ('forward', 4), ('down', 1), ('up', 5), ('down', 6), ('forward', 5), ('up', 5), ('forward', 5), ('down', 8), ('down', 1), ('down', 8), ('up', 1), ('down', 1), ('forward', 8), ('forward', 3), ('up', 2), ('forward', 9), ('forward', 1), ('forward', 3), ('down', 2), ('down', 7), ('down', 2), ('up', 4), ('up', 3), ('down', 2), ('forward', 2), ('forward', 9), ('forward', 8), ('down', 8), ('forward', 3), ('up', 9), ('up', 6), ('down', 9), ('down', 1), ('up', 3), ('up', 2), ('forward', 2), ('down', 6), ('up', 2), ('up', 1), ('down', 9), ('down', 3), ('down', 6), ('up', 7), ('up', 5), ('forward', 8), ('down', 1), ('forward', 7), ('down', 6), ('down', 1), ('up', 9), ('forward', 9), ('forward', 8), ('down', 3), ('down', 9), ('down', 5), ('forward', 7), ('up', 1), ('up', 4), ('up', 4), ('down', 7), ('down', 1), ('up', 2), ('down', 2), ('forward', 8), ('forward', 7), ('up', 8), ('down', 1), ('down', 8), ('up', 7), ('forward', 1), ('down', 9), ('forward', 7), ('forward', 1), ('down', 4), ('down', 8), ('down', 1), ('forward', 5), ('forward', 8), ('forward', 5), ('down', 8), ('down', 7), ('up', 5), ('forward', 8), ('down', 5), ('up', 9), ('down', 5), ('down', 9), ('forward', 2), ('forward', 6), ('forward', 2), ('up', 1), ('forward', 4), ('forward', 9), ('forward', 7), ('down', 7), ('down', 3), ('forward', 9), ('forward', 6), ('up', 5), ('forward', 5), ('forward', 7), ('down', 9), ('forward', 6), ('down', 7), ('forward', 5), ('forward', 5), ('forward', 4), ('forward', 1), ('forward', 1), ('up', 7), ('forward', 3), ('up', 3), ('forward', 6), ('up', 3), ('down', 9), ('forward', 9), ('up', 6), ('up', 3), ('forward', 2), ('down', 2), ('forward', 9), ('down', 7), ('up', 7), ('forward', 6), ('forward', 2), ('down', 2), ('down', 4), ('forward', 1), ('forward', 4), ('down', 4), ('up', 9), ('down', 4), ('down', 4), ('down', 3), ('forward', 6), ('forward', 3), ('down', 3), ('forward', 5), ('forward', 7), ('up', 4), ('forward', 1), ('forward', 5), ('forward', 2), ('forward', 5), ('forward', 5), ('forward', 2), ('up', 8), ('down', 7), ('up', 7), ('down', 7), ('forward', 1), ('forward', 5), ('forward', 3), ('forward', 7), ('forward', 5), ('forward', 6), ('up', 7), ('forward', 3), ('down', 7), ('down', 2), ('up', 9), ('forward', 6), ('down', 7), ('forward', 9), ('up', 8), ('down', 1), ('up', 8), ('up', 2), ('down', 7), ('down', 6), ('down', 5), ('up', 7), ('forward', 6), ('down', 5), ('forward', 7), ('down', 6), ('down', 2), ('up', 3), ('up', 7), ('up', 5), ('forward', 9), ('forward', 2), ('down', 1), ('down', 5), ('up', 9), ('forward', 8), ('down', 7), ('forward', 1), ('up', 6), ('down', 1), ('down', 3), ('forward', 3), ('forward', 6), ('down', 4), ('forward', 8), ('up', 2), ('down', 8), ('up', 4), ('up', 9), ('forward', 8), ('down', 9), ('forward', 3), ('forward', 7), ('down', 5), ('forward', 4), ('up', 3), ('up', 1), ('forward', 7), ('down', 6), ('up', 4), ('down', 3), ('forward', 8), ('down', 9), ('forward', 2), ('down', 8), ('forward', 9), ('up', 7), ('forward', 2), ('up', 1), ('down', 7), ('down', 1), ('forward', 4), ('forward', 5), ('down', 4), ('down', 9), ('forward', 2), ('down', 9), ('down', 5), ('up', 2), ('down', 6), ('forward', 8), ('up', 6), ('down', 3), ('down', 5), ('down', 1), ('up', 7), ('down', 5), ('forward', 8), ('up', 4), ('down', 7), ('down', 4), ('down', 4), ('down', 2), ('down', 3), ('down', 1), ('down', 7), ('forward', 4), ('down', 4), ('down', 7), ('down', 7), ('down', 9), ('up', 1), ('up', 7), ('forward', 4), ('up', 7), ('forward', 6), ('forward', 8), ('forward', 2), ('forward', 8), ('up', 8), ('down', 3), ('forward', 7), ('down', 9), ('forward', 9), ('forward', 6), ('up', 3), ('down', 4), ('down', 3), ('forward', 6), ('forward', 2), ('forward', 3), ('down', 8), ('forward', 1), ('forward', 5), ('up', 3), ('down', 8), ('forward', 7), ('forward', 4), ('down', 3), ('forward', 2), ('down', 9), ('down', 9), ('forward', 9), ('down', 7), ('forward', 6), ('forward', 4), ('down', 5), ('forward', 9), ('forward', 3), ('down', 1), ('down', 1), ('down', 7), ('forward', 8), ('down', 3), ('forward', 7), ('forward', 8), ('up', 3), ('forward', 8), ('forward', 8), ('up', 6), ('forward', 2), ('down', 3), ('down', 4), ('forward', 9), ('up', 8), ('down', 9), ('forward', 5), ('down', 3), ('up', 7), ('forward', 5), ('down', 2), ('forward', 2), ('forward', 1), ('down', 6), ('down', 1), ('up', 4), ('forward', 4), ('down', 7), ('up', 3), ('down', 3), ('forward', 4), ('forward', 2), ('forward', 1), ('forward', 9), ('forward', 7), ('forward', 9), ('down', 1), ('forward', 6), ('down', 5), ('up', 7), ('down', 9), ('down', 2), ('up', 4), ('down', 2), ('down', 2), ('down', 1), ('down', 2), ('down', 5), ('down', 4), ('down', 6), ('forward', 4), ('forward', 9), ('forward', 6), ('forward', 7), ('up', 9), ('up', 2), ('forward', 7), ('forward', 9), ('up', 5), ('forward', 2), ('up', 5), ('up', 9), ('forward', 9), ('down', 8), ('forward', 6), ('down', 8), ('forward', 4), ('down', 1), ('down', 4), ('forward', 4), ('down', 3), ('forward', 4), ('forward', 3), ('forward', 9), ('down', 5), ('forward', 3), ('forward', 2), ('forward', 9), ('forward', 8), ('down', 2), ('forward', 5), ('up', 2), ('forward', 1), ('down', 3), ('forward', 9), ('forward', 8), ('down', 9), ('forward', 5), ('forward', 1), ('down', 1), ('down', 9), ('down', 6), ('forward', 8), ('forward', 1), ('down', 5), ('up', 5), ('forward', 8), ('up', 4), ('down', 6), ('forward', 1), ('up', 2), ('down', 3), ('down', 1), ('down', 8), ('down', 2), ('up', 6), ('down', 5), ('down', 2), ('down', 3), ('forward', 2), ('up', 7), ('down', 9), ('up', 1), ('up', 1), ('forward', 7), ('forward', 4), ('down', 7), ('up', 7), ('down', 7), ('forward', 5), ('up', 2), ('down', 7), ('forward', 9), ('down', 7), ('up', 4), ('forward', 2), ('forward', 1), ('up', 6), ('down', 8), ('up', 6), ('down', 2), ('down', 4), ('up', 8), ('up', 8), ('up', 5), ('down', 6), ('up', 6), ('down', 5), ('up', 1), ('down', 1), ('forward', 6), ('up', 7), ('forward', 8), ('up', 9), ('down', 8), ('up', 7), ('forward', 9), ('up', 4), ('down', 5), ('forward', 3), ('forward', 6), ('forward', 4), ('forward', 4), ('down', 7), ('forward', 9), ('down', 6), ('down', 2), ('forward', 9), ('forward', 3)]\n"
     ]
    }
   ],
   "source": [
    "print(lines)"
   ]
  },
  {
   "cell_type": "code",
   "execution_count": 7,
   "id": "df51dc5c",
   "metadata": {},
   "outputs": [],
   "source": [
    "def productposdep(tuplist):\n",
    "    pos = 0\n",
    "    depth = 0\n",
    "    for tup in tuplist:\n",
    "        if tup[0] == 'forward':\n",
    "            pos += tup[1]\n",
    "        elif tup[0] == 'down':\n",
    "            depth += tup[1]\n",
    "        elif tup[0] == 'up':\n",
    "            depth -= tup[1]\n",
    "        else:\n",
    "            pass\n",
    "        \n",
    "    return(pos*depth)"
   ]
  },
  {
   "cell_type": "code",
   "execution_count": 8,
   "id": "b13af2a8",
   "metadata": {},
   "outputs": [
    {
     "data": {
      "text/plain": [
       "1604850"
      ]
     },
     "execution_count": 8,
     "metadata": {},
     "output_type": "execute_result"
    }
   ],
   "source": [
    "productposdep(lines) #Answer to part 1"
   ]
  },
  {
   "cell_type": "code",
   "execution_count": 9,
   "id": "546ca61c",
   "metadata": {},
   "outputs": [],
   "source": [
    "def productposdep(tuplist):\n",
    "    pos = 0\n",
    "    aim = 0\n",
    "    depth = 0\n",
    "    for tup in tuplist:\n",
    "        if tup[0] == 'forward':\n",
    "            pos += tup[1]\n",
    "            depth += tup[1] * aim\n",
    "        elif tup[0] == 'down':\n",
    "            aim += tup[1]\n",
    "        elif tup[0] == 'up':\n",
    "            aim -= tup[1]\n",
    "        else:\n",
    "            pass\n",
    "        \n",
    "    return(pos*depth)"
   ]
  },
  {
   "cell_type": "code",
   "execution_count": 10,
   "id": "bff72c1c",
   "metadata": {},
   "outputs": [
    {
     "data": {
      "text/plain": [
       "1685186100"
      ]
     },
     "execution_count": 10,
     "metadata": {},
     "output_type": "execute_result"
    }
   ],
   "source": [
    "productposdep(lines) #"
   ]
  }
 ],
 "metadata": {
  "kernelspec": {
   "display_name": "Python 3",
   "language": "python",
   "name": "python3"
  },
  "language_info": {
   "codemirror_mode": {
    "name": "ipython",
    "version": 3
   },
   "file_extension": ".py",
   "mimetype": "text/x-python",
   "name": "python",
   "nbconvert_exporter": "python",
   "pygments_lexer": "ipython3",
   "version": "3.8.8"
  }
 },
 "nbformat": 4,
 "nbformat_minor": 5
}
